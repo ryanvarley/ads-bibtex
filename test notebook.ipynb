{
 "cells": [
  {
   "cell_type": "code",
   "execution_count": null,
   "metadata": {
    "collapsed": true
   },
   "outputs": [],
   "source": []
  },
  {
   "cell_type": "code",
   "execution_count": 2,
   "metadata": {
    "collapsed": false
   },
   "outputs": [],
   "source": [
    "with open('example_config.txt', 'r') as f:\n",
    "    config_document = f.readlines()"
   ]
  },
  {
   "cell_type": "code",
   "execution_count": 7,
   "metadata": {
    "collapsed": false
   },
   "outputs": [
    {
     "name": "stdout",
     "output_type": "stream",
     "text": [
      "['# YAML front matter\\n', 'cache_length: 24              # hours, 3d = 72, 1w=168, 2w=336\\n', 'cache_db:     adsbibtex.cache # location to store cached entries\\n', 'bibtex_file:  test.tex        # location to output bibtex file\\n', '---\\n', '# Bibcode Name # Comment\\n', '2008Natur.452..329S Swain2008   # The presence of methane in the atmosphere of an extrasolar planet\\n', '2006AGUSM.A21A..06T # no name\\n']\n",
      "['# Bibcode Name # Comment\\n', '2008Natur.452..329S Swain2008   # The presence of methane in the atmosphere of an extrasolar planet\\n', '2006AGUSM.A21A..06T # no name\\n']\n",
      "# YAML front matter\n",
      "cache_length: 24              # hours, 3d = 72, 1w=168, 2w=336\n",
      "cache_db:     adsbibtex.cache # location to store cached entries\n",
      "bibtex_file:  test.tex        # location to output bibtex file\n",
      "\n"
     ]
    }
   ],
   "source": [
    "document_list = [\"# YAML front matter\\n\",\n",
    "                 \"cache_length: 24              # hours, 3d = 72, 1w=168, 2w=336\\n\",\n",
    "                 \"cache_db:     adsbibtex.cache # location to store cached entries\\n\",\n",
    "                 \"bibtex_file:  test.tex        # location to output bibtex file\\n\",\n",
    "                 \"---\\n\",\n",
    "                 \"# Bibcode Name # Comment\\n\",\n",
    "                 \"2008Natur.452..329S Swain2008   # The presence of methane in the atmosphere of an extrasolar planet\\n\",\n",
    "                 \"2006AGUSM.A21A..06T # no name\\n\",\n",
    "                 ]\n",
    "\n",
    "# yaml_front_matter, bibcode_lines = adsbibtex.parse_config_file(document_list)\n",
    "\n",
    "yaml_front_matter_answer = ''.join(document_list[:4])\n",
    "bibcode_lines_answer = document_list[5:]\n",
    "\n",
    "print document_list\n",
    "print bibcode_lines_answer\n",
    "print yaml_front_matter_answer"
   ]
  },
  {
   "cell_type": "code",
   "execution_count": null,
   "metadata": {
    "collapsed": true
   },
   "outputs": [],
   "source": []
  }
 ],
 "metadata": {
  "kernelspec": {
   "display_name": "Python 2",
   "language": "python",
   "name": "python2"
  },
  "language_info": {
   "codemirror_mode": {
    "name": "ipython",
    "version": 2
   },
   "file_extension": ".py",
   "mimetype": "text/x-python",
   "name": "python",
   "nbconvert_exporter": "python",
   "pygments_lexer": "ipython2",
   "version": "2.7.10"
  }
 },
 "nbformat": 4,
 "nbformat_minor": 0
}
